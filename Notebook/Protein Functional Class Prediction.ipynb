{
 "cells": [
  {
   "cell_type": "code",
   "execution_count": 109,
   "id": "8950b1ec-41de-4b6c-80ae-fa4af22b7163",
   "metadata": {
    "scrolled": true
   },
   "outputs": [
    {
     "name": "stdout",
     "output_type": "stream",
     "text": [
      "Requirement already satisfied: pandas in c:\\users\\janu\\anaconda3\\lib\\site-packages (2.2.2)\n",
      "Requirement already satisfied: numpy in c:\\users\\janu\\anaconda3\\lib\\site-packages (1.26.4)\n",
      "Requirement already satisfied: matplotlib in c:\\users\\janu\\anaconda3\\lib\\site-packages (3.10.0)\n",
      "Requirement already satisfied: biopython in c:\\users\\janu\\anaconda3\\lib\\site-packages (1.85)\n",
      "Requirement already satisfied: scikit-learn in c:\\users\\janu\\anaconda3\\lib\\site-packages (1.6.1)\n",
      "Requirement already satisfied: torch in c:\\users\\janu\\anaconda3\\lib\\site-packages (2.5.1)\n",
      "Requirement already satisfied: torchvision in c:\\users\\janu\\anaconda3\\lib\\site-packages (0.20.1)\n",
      "Requirement already satisfied: tqdm in c:\\users\\janu\\anaconda3\\lib\\site-packages (4.66.5)\n",
      "Requirement already satisfied: python-dateutil>=2.8.2 in c:\\users\\janu\\anaconda3\\lib\\site-packages (from pandas) (2.9.0.post0)\n",
      "Requirement already satisfied: pytz>=2020.1 in c:\\users\\janu\\anaconda3\\lib\\site-packages (from pandas) (2024.1)\n",
      "Requirement already satisfied: tzdata>=2022.7 in c:\\users\\janu\\anaconda3\\lib\\site-packages (from pandas) (2023.3)\n",
      "Requirement already satisfied: contourpy>=1.0.1 in c:\\users\\janu\\anaconda3\\lib\\site-packages (from matplotlib) (1.2.0)\n",
      "Requirement already satisfied: cycler>=0.10 in c:\\users\\janu\\anaconda3\\lib\\site-packages (from matplotlib) (0.12.1)\n",
      "Requirement already satisfied: fonttools>=4.22.0 in c:\\users\\janu\\anaconda3\\lib\\site-packages (from matplotlib) (4.55.3)\n",
      "Requirement already satisfied: kiwisolver>=1.3.1 in c:\\users\\janu\\anaconda3\\lib\\site-packages (from matplotlib) (1.4.8)\n",
      "Requirement already satisfied: packaging>=20.0 in c:\\users\\janu\\anaconda3\\lib\\site-packages (from matplotlib) (24.1)\n",
      "Requirement already satisfied: pillow>=8 in c:\\users\\janu\\anaconda3\\lib\\site-packages (from matplotlib) (10.4.0)\n",
      "Requirement already satisfied: pyparsing>=2.3.1 in c:\\users\\janu\\anaconda3\\lib\\site-packages (from matplotlib) (3.2.1)\n",
      "Requirement already satisfied: scipy>=1.6.0 in c:\\users\\janu\\anaconda3\\lib\\site-packages (from scikit-learn) (1.11.4)\n",
      "Requirement already satisfied: joblib>=1.2.0 in c:\\users\\janu\\anaconda3\\lib\\site-packages (from scikit-learn) (1.4.2)\n",
      "Requirement already satisfied: threadpoolctl>=3.1.0 in c:\\users\\janu\\anaconda3\\lib\\site-packages (from scikit-learn) (3.5.0)\n",
      "Requirement already satisfied: filelock in c:\\users\\janu\\anaconda3\\lib\\site-packages (from torch) (3.13.1)\n",
      "Requirement already satisfied: typing-extensions>=4.8.0 in c:\\users\\janu\\anaconda3\\lib\\site-packages (from torch) (4.11.0)\n",
      "Requirement already satisfied: networkx in c:\\users\\janu\\anaconda3\\lib\\site-packages (from torch) (3.3)\n",
      "Requirement already satisfied: jinja2 in c:\\users\\janu\\anaconda3\\lib\\site-packages (from torch) (3.1.4)\n",
      "Requirement already satisfied: fsspec in c:\\users\\janu\\anaconda3\\lib\\site-packages (from torch) (2024.6.1)\n",
      "Requirement already satisfied: sympy==1.13.1 in c:\\users\\janu\\anaconda3\\lib\\site-packages (from torch) (1.13.1)\n",
      "Requirement already satisfied: mpmath<1.4,>=1.1.0 in c:\\users\\janu\\anaconda3\\lib\\site-packages (from sympy==1.13.1->torch) (1.3.0)\n",
      "Requirement already satisfied: colorama in c:\\users\\janu\\anaconda3\\lib\\site-packages (from tqdm) (0.4.6)\n",
      "Requirement already satisfied: six>=1.5 in c:\\users\\janu\\anaconda3\\lib\\site-packages (from python-dateutil>=2.8.2->pandas) (1.16.0)\n",
      "Requirement already satisfied: MarkupSafe>=2.0 in c:\\users\\janu\\anaconda3\\lib\\site-packages (from jinja2->torch) (2.1.3)\n"
     ]
    }
   ],
   "source": [
    "# Protein Functional Class Prediction Project\n",
    "\n",
    "# Install libraries \n",
    "!pip install pandas numpy matplotlib biopython scikit-learn torch torchvision tqdm\n",
    "\n",
    "import pandas as pd\n",
    "import numpy as np\n",
    "import matplotlib.pyplot as plt\n",
    "from sklearn.model_selection import train_test_split\n",
    "from sklearn.linear_model import LogisticRegression\n",
    "from sklearn.neighbors import KNeighborsClassifier\n",
    "from sklearn.preprocessing import StandardScaler, LabelEncoder\n",
    "from sklearn.ensemble import RandomForestClassifier\n",
    "from sklearn.metrics import classification_report, confusion_matrix, accuracy_score\n",
    "\n",
    "# Libraries used for future work\n",
    "import torch\n",
    "import torch.nn as nn\n",
    "import torch.optim as optim\n",
    "from torch.utils.data import DataLoader, Dataset\n"
   ]
  },
  {
   "cell_type": "code",
   "execution_count": 110,
   "id": "14e28587-2fdc-4c67-a9ec-a9696c48b698",
   "metadata": {},
   "outputs": [
    {
     "name": "stdout",
     "output_type": "stream",
     "text": [
      "    Entry                                           Sequence Selected_PDB  \\\n",
      "0  P07151  MARSVTVIFLVLVSLAVVLAIQKTPQIQVYSRHPPENGKPNFLNCY...         1kjv   \n",
      "1  P78325  MRGLGLWLLGAMMLPAIAPSRPWALMEQYEVVLPWRLPGPRVRRAL...         4dd8   \n",
      "2  Q16819  MAWIRSTCILFFTLLFAHIAAVPIKYLPEENVHDADFGEQKDISEI...         7uaf   \n",
      "3  Q92932  MGPPLPLLLLLLLLLPPRVLPAAPSSVPRGRQLPGRLGCLLEEGLC...         2qep   \n",
      "4  Q3UV74  MLGQCTLLPVLAGLLSLESALSQLCTKDNVSTCQDCIRSGPSCAWC...         2iue   \n",
      "\n",
      "  ProteinClass  \n",
      "0          MHC  \n",
      "1     Protease  \n",
      "2     Protease  \n",
      "3  Phosphatase  \n",
      "4     Integrin  \n",
      "Entry           0\n",
      "Sequence        0\n",
      "Selected_PDB    0\n",
      "ProteinClass    0\n",
      "dtype: int64\n"
     ]
    }
   ],
   "source": [
    "# Load dataset\n",
    "data = pd.read_csv(\"C:/Users/Janu/Desktop/Protein Function Prediction/balanced_seq.csv\")\n",
    "\n",
    "# Check structure\n",
    "print(data.head())\n",
    "\n",
    "# Check for missing values\n",
    "print(data.isnull().sum())\n",
    "\n",
    "# Extract features & labels\n",
    "sequences = data['Sequence']\n",
    "labels = data['ProteinClass']"
   ]
  },
  {
   "cell_type": "code",
   "execution_count": 111,
   "id": "ec6b0325-a260-457b-b71f-bbb5db983a0b",
   "metadata": {},
   "outputs": [
    {
     "name": "stdout",
     "output_type": "stream",
     "text": [
      "          A         C         D         E         F         G         H  \\\n",
      "0  0.042017  0.016807  0.042017  0.058824  0.050420  0.016807  0.033613   \n",
      "1  0.091019  0.053398  0.036408  0.054612  0.027913  0.095874  0.041262   \n",
      "2  0.048257  0.025469  0.069705  0.052279  0.053619  0.073727  0.029491   \n",
      "3  0.089655  0.013793  0.058128  0.072906  0.021675  0.070936  0.026601   \n",
      "4  0.040650  0.073171  0.048780  0.050136  0.033875  0.081301  0.018970   \n",
      "\n",
      "          I         K         L         M         N         P         Q  \\\n",
      "0  0.067227  0.075630  0.084034  0.025210  0.042017  0.075630  0.042017   \n",
      "1  0.016990  0.029126  0.082524  0.016990  0.030340  0.087379  0.048544   \n",
      "2  0.067024  0.040214  0.080429  0.017426  0.045576  0.041555  0.060322   \n",
      "3  0.022660  0.036453  0.118227  0.019704  0.023645  0.077833  0.051232   \n",
      "4  0.042005  0.044715  0.093496  0.016260  0.048780  0.039295  0.069106   \n",
      "\n",
      "          R         S         T         V         W         Y  \n",
      "0  0.033613  0.067227  0.075630  0.100840  0.016807  0.033613  \n",
      "1  0.064320  0.060680  0.046117  0.083738  0.009709  0.023058  \n",
      "2  0.050938  0.077748  0.061662  0.052279  0.017426  0.034853  \n",
      "3  0.067980  0.090640  0.041379  0.060099  0.008867  0.027586  \n",
      "4  0.052846  0.092141  0.056911  0.059621  0.006775  0.031165  \n"
     ]
    }
   ],
   "source": [
    "# Create features from sequences\n",
    "def compute_amino_acid_composition(sequence):\n",
    "    amino_acids = \"ACDEFGHIKLMNPQRSTVWY\"\n",
    "    composition = [sequence.count(aa) / len(sequence) for aa in amino_acids]\n",
    "    return composition\n",
    "\n",
    "# Apply feature extraction to all sequences\n",
    "features = sequences.apply(compute_amino_acid_composition)\n",
    "\n",
    "# Convert to a DataFrame\n",
    "X = pd.DataFrame(features.tolist())\n",
    "X.columns = list(\"ACDEFGHIKLMNPQRSTVWY\")\n",
    "\n",
    "# Check structure\n",
    "print(X.head())"
   ]
  },
  {
   "cell_type": "code",
   "execution_count": 112,
   "id": "93e5d615-4447-4187-8d59-6d991b790ea2",
   "metadata": {},
   "outputs": [
    {
     "name": "stdout",
     "output_type": "stream",
     "text": [
      "{'ATPase': 0, 'Aquaporin': 1, 'Channel': 2, 'GPCR': 3, 'Integrin': 4, 'MHC': 5, 'Phosphatase': 6, 'Protease': 7, 'RTK': 8, 'Ser:Thr': 9}\n"
     ]
    }
   ],
   "source": [
    "# Label encoding\n",
    "encoder = LabelEncoder()\n",
    "y = encoder.fit_transform(labels)\n",
    "\n",
    "# Check class mappings\n",
    "print(dict(zip(encoder.classes_, range(len(encoder.classes_)))))\n",
    "\n",
    "# Split data\n",
    "X_train, X_test, y_train, y_test = train_test_split(X, y, test_size=0.2, random_state=0)\n"
   ]
  },
  {
   "cell_type": "code",
   "execution_count": 113,
   "id": "60132664-faa4-410e-8263-313298b94c2a",
   "metadata": {},
   "outputs": [
    {
     "name": "stdout",
     "output_type": "stream",
     "text": [
      "Random Forest Classification Report:\n",
      "               precision    recall  f1-score   support\n",
      "\n",
      "           0       1.00      0.92      0.96        25\n",
      "           1       0.95      1.00      0.98        20\n",
      "           2       0.64      0.70      0.67        20\n",
      "           3       0.97      0.94      0.95        32\n",
      "           4       1.00      1.00      1.00        19\n",
      "           5       1.00      1.00      1.00        14\n",
      "           6       0.89      0.89      0.89        18\n",
      "           7       0.86      0.82      0.84        22\n",
      "           8       1.00      0.87      0.93        15\n",
      "           9       0.78      0.93      0.85        15\n",
      "\n",
      "    accuracy                           0.91       200\n",
      "   macro avg       0.91      0.91      0.91       200\n",
      "weighted avg       0.91      0.91      0.91       200\n",
      "\n"
     ]
    }
   ],
   "source": [
    "# Train Random Forest\n",
    "rf_model = RandomForestClassifier(n_estimators=100, random_state=0)\n",
    "rf_model.fit(X_train, y_train)\n",
    "\n",
    "# Predictions and evaluation\n",
    "rf_model_predictions = rf_model.predict(X_test)\n",
    "print(\"Random Forest Classification Report:\\n\", classification_report(y_test, rf_model_predictions))"
   ]
  },
  {
   "cell_type": "code",
   "execution_count": 114,
   "id": "c6bfd607-9d37-43bd-b1f2-336296584a31",
   "metadata": {},
   "outputs": [
    {
     "name": "stdout",
     "output_type": "stream",
     "text": [
      "Logistic Regression Classification Report:\n",
      "               precision    recall  f1-score   support\n",
      "\n",
      "           0       0.00      0.00      0.00        25\n",
      "           1       0.40      1.00      0.57        20\n",
      "           2       0.00      0.00      0.00        20\n",
      "           3       0.00      0.00      0.00        32\n",
      "           4       0.64      0.47      0.55        19\n",
      "           5       0.17      1.00      0.29        14\n",
      "           6       0.25      0.06      0.09        18\n",
      "           7       0.00      0.00      0.00        22\n",
      "           8       0.22      0.13      0.17        15\n",
      "           9       0.24      0.67      0.35        15\n",
      "\n",
      "    accuracy                           0.28       200\n",
      "   macro avg       0.19      0.33      0.20       200\n",
      "weighted avg       0.17      0.28      0.18       200\n",
      "\n"
     ]
    },
    {
     "name": "stderr",
     "output_type": "stream",
     "text": [
      "C:\\Users\\Janu\\anaconda3\\Lib\\site-packages\\sklearn\\metrics\\_classification.py:1565: UndefinedMetricWarning: Precision is ill-defined and being set to 0.0 in labels with no predicted samples. Use `zero_division` parameter to control this behavior.\n",
      "  _warn_prf(average, modifier, f\"{metric.capitalize()} is\", len(result))\n",
      "C:\\Users\\Janu\\anaconda3\\Lib\\site-packages\\sklearn\\metrics\\_classification.py:1565: UndefinedMetricWarning: Precision is ill-defined and being set to 0.0 in labels with no predicted samples. Use `zero_division` parameter to control this behavior.\n",
      "  _warn_prf(average, modifier, f\"{metric.capitalize()} is\", len(result))\n",
      "C:\\Users\\Janu\\anaconda3\\Lib\\site-packages\\sklearn\\metrics\\_classification.py:1565: UndefinedMetricWarning: Precision is ill-defined and being set to 0.0 in labels with no predicted samples. Use `zero_division` parameter to control this behavior.\n",
      "  _warn_prf(average, modifier, f\"{metric.capitalize()} is\", len(result))\n"
     ]
    }
   ],
   "source": [
    "# Train Logistic Regression\n",
    "lr_model = LogisticRegression(max_iter=100, random_state=0)\n",
    "lr_model.fit(X_train, y_train)\n",
    "\n",
    "# Predictions and evaluation\n",
    "lr_model_predictions = lr_model.predict(X_test)\n",
    "print(\"Logistic Regression Classification Report:\\n\", classification_report(y_test, lr_model_predictions))"
   ]
  },
  {
   "cell_type": "code",
   "execution_count": 115,
   "id": "f5e08305-2016-432b-8eff-1cb3f5199d89",
   "metadata": {},
   "outputs": [
    {
     "name": "stdout",
     "output_type": "stream",
     "text": [
      "K-Nearest Neighbours Classification Report:\n",
      "               precision    recall  f1-score   support\n",
      "\n",
      "           0       0.83      0.96      0.89        25\n",
      "           1       0.91      1.00      0.95        20\n",
      "           2       0.54      0.65      0.59        20\n",
      "           3       0.95      0.66      0.78        32\n",
      "           4       0.79      1.00      0.88        19\n",
      "           5       1.00      0.93      0.96        14\n",
      "           6       0.64      0.78      0.70        18\n",
      "           7       1.00      0.45      0.62        22\n",
      "           8       0.50      0.60      0.55        15\n",
      "           9       0.69      0.73      0.71        15\n",
      "\n",
      "    accuracy                           0.77       200\n",
      "   macro avg       0.78      0.78      0.76       200\n",
      "weighted avg       0.80      0.77      0.77       200\n",
      "\n"
     ]
    }
   ],
   "source": [
    "# Train KNN\n",
    "knn_model = KNeighborsClassifier(n_neighbors=5)\n",
    "knn_model.fit(X_train, y_train)\n",
    "\n",
    "# Predictions and evaluation\n",
    "knn_model_predictions = knn_model.predict(X_test)\n",
    "print(\"K-Nearest Neighbours Classification Report:\\n\", classification_report(y_test, knn_model_predictions))"
   ]
  },
  {
   "cell_type": "code",
   "execution_count": 116,
   "id": "37421670-32f7-4721-9777-da3826e30b82",
   "metadata": {},
   "outputs": [
    {
     "data": {
      "image/png": "[encoded data removed]",
      "text/plain": [
       "<Figure size 800x500 with 1 Axes>"
      ]
     },
     "metadata": {},
     "output_type": "display_data"
    }
   ],
   "source": [
    "# Calculate accuracy for all models\n",
    "acc_rf = accuracy_score(y_test, rf_model_predictions)\n",
    "acc_lr = accuracy_score(y_test, lr_model_predictions)\n",
    "acc_knn = accuracy_score(y_test, knn_model_predictions)\n",
    "\n",
    "# Plot accuracy comparison graph\n",
    "import matplotlib.pyplot as plt\n",
    "\n",
    "model_names = ['Random Forest', 'Logistic Regression', 'K-Nearest Neighbours']\n",
    "accuracies = [acc_rf, acc_lr, acc_knn]\n",
    "\n",
    "plt.figure(figsize=(8, 5))\n",
    "plt.bar(model_names, accuracies, color=['blue', 'orange', 'green'])\n",
    "plt.ylim(0, 1)\n",
    "plt.title(\"Model Accuracy Comparison\")\n",
    "plt.ylabel(\"Accuracy\")\n",
    "plt.xlabel(\"Model\")\n",
    "plt.show()\n"
   ]
  },
  {
   "cell_type": "code",
   "execution_count": null,
   "id": "9d677959-9ef1-4e24-ad82-0261e9699ec0",
   "metadata": {},
   "outputs": [],
   "source": []
  }
 ],
 "metadata": {
  "kernelspec": {
   "display_name": "Python 3 (ipykernel)",
   "language": "python",
   "name": "python3"
  },
  "language_info": {
   "codemirror_mode": {
    "name": "ipython",
    "version": 3
   },
   "file_extension": ".py",
   "mimetype": "text/x-python",
   "name": "python",
   "nbconvert_exporter": "python",
   "pygments_lexer": "ipython3",
   "version": "3.11.7"
  }
 },
 "nbformat": 4,
 "nbformat_minor": 5
}
